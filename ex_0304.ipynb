{
 "cells": [
  {
   "cell_type": "code",
   "execution_count": 8,
   "id": "e07a0108-e707-4868-903d-697c63e64b57",
   "metadata": {},
   "outputs": [],
   "source": [
    "import scipy.stats as st\n",
    "import numpy as np"
   ]
  },
  {
   "cell_type": "code",
   "execution_count": 2,
   "id": "cd1a9bb8-1197-4182-9ae1-a1fb8475ca7f",
   "metadata": {},
   "outputs": [
    {
     "data": {
      "text/plain": [
       "1.6448536269514722"
      ]
     },
     "execution_count": 2,
     "metadata": {},
     "output_type": "execute_result"
    }
   ],
   "source": [
    "mu = 0 \n",
    "sigma = 1\n",
    "alpha =0.95\n",
    "st .norm.ppf(alpha,loc =mu,scale=sigma)"
   ]
  },
  {
   "cell_type": "code",
   "execution_count": 3,
   "id": "022db2ce-b4da-483b-b868-33a5428b8fa7",
   "metadata": {},
   "outputs": [
    {
     "data": {
      "text/plain": [
       "1.959963984540054"
      ]
     },
     "execution_count": 3,
     "metadata": {},
     "output_type": "execute_result"
    }
   ],
   "source": [
    "alpha = 0.975\n",
    "st.norm.ppf(alpha, loc = mu,scale=sigma)\n"
   ]
  },
  {
   "cell_type": "code",
   "execution_count": 4,
   "id": "15f07949-5f2f-4c47-b24b-2a79f68b1f5a",
   "metadata": {},
   "outputs": [
    {
     "name": "stdout",
     "output_type": "stream",
     "text": [
      "Degree of Freedom =      10 , Quanatile =          1\n",
      "Degree of Freedom =      50 , Quanatile =          1\n",
      "Degree of Freedom =     100 , Quanatile =          1\n",
      "Degree of Freedom =    2000 , Quanatile =          1\n",
      "Degree of Freedom =  100000 , Quanatile =          1\n"
     ]
    }
   ],
   "source": [
    "alpha = 0.95\n",
    "for df in [10,50,100,2000,100000]:\n",
    "    val = st.t.ppf(alpha,df)\n",
    "    print('Degree of Freedom = %7d , Quanatile = %10d'%(df,val))"
   ]
  },
  {
   "cell_type": "code",
   "execution_count": 4,
   "id": "6fafaada-3d81-4a14-9348-d325f243e3c4",
   "metadata": {},
   "outputs": [
    {
     "name": "stdout",
     "output_type": "stream",
     "text": [
      "Degree of Freedom =      10, Quantile =   2.228139\n",
      "Degree of Freedom =      50, Quantile =   2.008559\n",
      "Degree of Freedom =     100, Quantile =   1.983972\n",
      "Degree of Freedom =   20000, Quantile =   1.960083\n",
      "Degree of Freedom = 1000000, Quantile =   1.959966\n"
     ]
    }
   ],
   "source": [
    "alpha = 0.95\n",
    "alpha = 0.975\n",
    "for df in [10,50,100,20000,1000000]:\n",
    "    val = st.t.ppf(alpha,df)\n",
    "    print('Degree of Freedom = %7d, Quantile = %10f' %(df,val))"
   ]
  },
  {
   "cell_type": "code",
   "execution_count": 10,
   "id": "7a1092b5-85ca-4600-a4b7-915be40188f0",
   "metadata": {},
   "outputs": [
    {
     "data": {
      "text/plain": [
       "0.8437643724222779"
      ]
     },
     "execution_count": 10,
     "metadata": {},
     "output_type": "execute_result"
    }
   ],
   "source": [
    "df = 5\n",
    "st.chi2.cdf(8,df)"
   ]
  },
  {
   "cell_type": "code",
   "execution_count": 9,
   "id": "40d28e0e-1544-4a99-8439-02fda0e9a506",
   "metadata": {},
   "outputs": [
    {
     "data": {
      "text/plain": [
       "8.000000010482703"
      ]
     },
     "execution_count": 9,
     "metadata": {},
     "output_type": "execute_result"
    }
   ],
   "source": [
    "df = 5\n",
    "alpha =0.843764373\n",
    "st.chi2.ppf(alpha, df)"
   ]
  },
  {
   "cell_type": "code",
   "execution_count": null,
   "id": "7d4f6af2-8d54-4c08-b0cd-715e6a22f956",
   "metadata": {},
   "outputs": [],
   "source": []
  }
 ],
 "metadata": {
  "kernelspec": {
   "display_name": "Python 3 (ipykernel)",
   "language": "python",
   "name": "python3"
  },
  "language_info": {
   "codemirror_mode": {
    "name": "ipython",
    "version": 3
   },
   "file_extension": ".py",
   "mimetype": "text/x-python",
   "name": "python",
   "nbconvert_exporter": "python",
   "pygments_lexer": "ipython3",
   "version": "3.12.4"
  }
 },
 "nbformat": 4,
 "nbformat_minor": 5
}
